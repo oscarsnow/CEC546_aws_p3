{
 "cells": [
  {
   "cell_type": "code",
   "execution_count": null,
   "id": "bf9b54bf-6efe-4fd0-b228-066edabe6b7e",
   "metadata": {},
   "outputs": [],
   "source": [
    "import boto3\n",
    "import os\n",
    "import sys\n",
    "from urllib.parse import unquote_plus\n",
    "import uuid\n",
    "import \n",
    "\n",
    "\n",
    "input_bucket = \"testbucker333345\"\n",
    "output_bucket = \"testbucker333345out\"\n",
    "jpg_bucket = \"testbucker333345jpg\"\n",
    "sys_path = \"/tmp/\"\n",
    "\n",
    "s3_client = boto3.client('s3')\n",
    "\n",
    "def save_image(image,addr):\n",
    "    address = addr + tmp2key\n",
    "    cv2.imwrite(address,image)\n",
    "\n",
    "\n",
    "def lambda_handler(event, context):\n",
    "    for record in event['Records']:\n",
    "        bucket = record['s3']['bucket']['name']\n",
    "        key = unquote_plus(record['s3']['object']['key'])\n",
    "        tmpkey = key.replace('/', '')\n",
    "        download_path = sys_path +'{}{}'.format(uuid.uuid4(), tmpkey)\n",
    "        s3_client.download_file(bucket, key, download_path)\n",
    "\n",
    "\n",
    "\n",
    "        #resize_image(download_path, upload_path)\n",
    "        #s3_client.upload_file(upload_path, '{}-resized'.format(bucket), key)\n",
    "        \n",
    "        #download_path = '/tmp/'{}.format(tmpkey)\n",
    "        #s3_client.download_file(bucket, key, download_path)\n",
    "       \n",
    "        #videoCapture = cv2.VideoCapture(download_path)\n",
    "        #success, frame = videoCapture.read()\n",
    "        #tmp2key =key.replace('mp4', 'jpg')\n",
    "        #save_image(frame,'./tmp/')\n",
    "      \n",
    "        #upload_path = './tmp/{}'.format(tmp2key)\n",
    "        #s3_client.upload_file(upload_path, 'testbucker333345jpg', key)\n",
    "      \n",
    "      #download_path = '/tmp/{}{}'.format(uuid.uuid4(), tmpkey)\n",
    "      #upload_path = '/tmp/{}' + '.jpg'.format(tmpkey)\n",
    "      #s3_client.download_file(bucket, key, download_path)\n",
    "      #resize_image(download_path, upload_path)\n",
    "      #s3_client.upload_file(upload_path, '{}-resized'.format(bucket), key)\n",
    "            \n"
   ]
  }
 ],
 "metadata": {
  "kernelspec": {
   "display_name": "Python 3 (ipykernel)",
   "language": "python",
   "name": "python3"
  },
  "language_info": {
   "codemirror_mode": {
    "name": "ipython",
    "version": 3
   },
   "file_extension": ".py",
   "mimetype": "text/x-python",
   "name": "python",
   "nbconvert_exporter": "python",
   "pygments_lexer": "ipython3",
   "version": "3.8.11"
  }
 },
 "nbformat": 4,
 "nbformat_minor": 5
}
