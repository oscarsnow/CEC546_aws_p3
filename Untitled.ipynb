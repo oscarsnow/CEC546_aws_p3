{
 "cells": [
  {
   "cell_type": "code",
   "execution_count": 1,
   "id": "397c9c86-7293-4c0d-9405-aacbb8c0b5f7",
   "metadata": {},
   "outputs": [
    {
     "name": "stdout",
     "output_type": "stream",
     "text": [
      "test_0.mp4\n",
      "test_0\n"
     ]
    }
   ],
   "source": [
    "o = 'test_0.mp4'\n",
    "\n",
    "r= o.replace('.mp4', '')\n",
    "\n",
    "print (o)\n",
    "print (r)"
   ]
  },
  {
   "cell_type": "code",
   "execution_count": null,
   "id": "40cc87f0-7363-4228-8803-d3e1347cb844",
   "metadata": {},
   "outputs": [],
   "source": []
  }
 ],
 "metadata": {
  "kernelspec": {
   "display_name": "Python 3 (ipykernel)",
   "language": "python",
   "name": "python3"
  },
  "language_info": {
   "codemirror_mode": {
    "name": "ipython",
    "version": 3
   },
   "file_extension": ".py",
   "mimetype": "text/x-python",
   "name": "python",
   "nbconvert_exporter": "python",
   "pygments_lexer": "ipython3",
   "version": "3.8.11"
  }
 },
 "nbformat": 4,
 "nbformat_minor": 5
}
